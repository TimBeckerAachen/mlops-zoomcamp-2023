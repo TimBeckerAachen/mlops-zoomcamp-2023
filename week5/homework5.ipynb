{
 "cells": [
  {
   "cell_type": "markdown",
   "id": "7bf05e7e",
   "metadata": {},
   "source": [
    "# Baseline model for batch monitoring example"
   ]
  },
  {
   "cell_type": "code",
   "execution_count": 1,
   "id": "7320039b",
   "metadata": {},
   "outputs": [
    {
     "name": "stderr",
     "output_type": "stream",
     "text": [
      "/home/tim/.pyenv/versions/3.9.7/envs/monitoring/lib/python3.9/site-packages/umap/distances.py:1063: NumbaDeprecationWarning: \u001b[1mThe 'nopython' keyword argument was not supplied to the 'numba.jit' decorator. The implicit default value for this argument is currently False, but it will be changed to True in Numba 0.59.0. See https://numba.readthedocs.io/en/stable/reference/deprecation.html#deprecation-of-object-mode-fall-back-behaviour-when-using-jit for details.\u001b[0m\n",
      "  @numba.jit()\n",
      "/home/tim/.pyenv/versions/3.9.7/envs/monitoring/lib/python3.9/site-packages/umap/distances.py:1071: NumbaDeprecationWarning: \u001b[1mThe 'nopython' keyword argument was not supplied to the 'numba.jit' decorator. The implicit default value for this argument is currently False, but it will be changed to True in Numba 0.59.0. See https://numba.readthedocs.io/en/stable/reference/deprecation.html#deprecation-of-object-mode-fall-back-behaviour-when-using-jit for details.\u001b[0m\n",
      "  @numba.jit()\n",
      "/home/tim/.pyenv/versions/3.9.7/envs/monitoring/lib/python3.9/site-packages/umap/distances.py:1086: NumbaDeprecationWarning: \u001b[1mThe 'nopython' keyword argument was not supplied to the 'numba.jit' decorator. The implicit default value for this argument is currently False, but it will be changed to True in Numba 0.59.0. See https://numba.readthedocs.io/en/stable/reference/deprecation.html#deprecation-of-object-mode-fall-back-behaviour-when-using-jit for details.\u001b[0m\n",
      "  @numba.jit()\n",
      "/home/tim/.pyenv/versions/3.9.7/envs/monitoring/lib/python3.9/site-packages/umap/umap_.py:660: NumbaDeprecationWarning: \u001b[1mThe 'nopython' keyword argument was not supplied to the 'numba.jit' decorator. The implicit default value for this argument is currently False, but it will be changed to True in Numba 0.59.0. See https://numba.readthedocs.io/en/stable/reference/deprecation.html#deprecation-of-object-mode-fall-back-behaviour-when-using-jit for details.\u001b[0m\n",
      "  @numba.jit()\n"
     ]
    }
   ],
   "source": [
    "import requests\n",
    "import datetime\n",
    "import pandas as pd\n",
    "\n",
    "from evidently import ColumnMapping\n",
    "from evidently.report import Report\n",
    "from evidently.metrics import ColumnDriftMetric, DatasetDriftMetric, DatasetMissingValuesMetric\n",
    "\n",
    "from joblib import load, dump\n",
    "from tqdm import tqdm\n",
    "\n",
    "from sklearn.linear_model import LinearRegression\n",
    "from sklearn.metrics import mean_absolute_error, mean_absolute_percentage_error"
   ]
  },
  {
   "cell_type": "code",
   "execution_count": null,
   "id": "ebcd8eb5",
   "metadata": {},
   "outputs": [],
   "source": [
    "files = [('green_tripdata_2022-02.parquet', './data'), ('green_tripdata_2022-01.parquet', './data')]\n",
    "\n",
    "print(\"Download files:\")\n",
    "for file, path in files:\n",
    "    url=f\"https://d37ci6vzurychx.cloudfront.net/trip-data/{file}\"\n",
    "    resp=requests.get(url, stream=True)\n",
    "    save_path=f\"{path}/{file}\"\n",
    "    with open(save_path, \"wb\") as handle:\n",
    "        for data in tqdm(resp.iter_content(),\n",
    "                        desc=f\"{file}\",\n",
    "                        postfix=f\"save to {save_path}\",\n",
    "                        total=int(resp.headers[\"Content-Length\"])):\n",
    "            handle.write(data)"
   ]
  },
  {
   "cell_type": "code",
   "execution_count": 31,
   "id": "6735ae38",
   "metadata": {},
   "outputs": [],
   "source": [
    "march_data = pd.read_parquet('../data/green_tripdata_2023-03.parquet')"
   ]
  },
  {
   "cell_type": "code",
   "execution_count": 32,
   "id": "29779686",
   "metadata": {
    "scrolled": true
   },
   "outputs": [
    {
     "data": {
      "text/html": [
       "<div>\n",
       "<style scoped>\n",
       "    .dataframe tbody tr th:only-of-type {\n",
       "        vertical-align: middle;\n",
       "    }\n",
       "\n",
       "    .dataframe tbody tr th {\n",
       "        vertical-align: top;\n",
       "    }\n",
       "\n",
       "    .dataframe thead th {\n",
       "        text-align: right;\n",
       "    }\n",
       "</style>\n",
       "<table border=\"1\" class=\"dataframe\">\n",
       "  <thead>\n",
       "    <tr style=\"text-align: right;\">\n",
       "      <th></th>\n",
       "      <th>VendorID</th>\n",
       "      <th>lpep_pickup_datetime</th>\n",
       "      <th>lpep_dropoff_datetime</th>\n",
       "      <th>RatecodeID</th>\n",
       "      <th>PULocationID</th>\n",
       "      <th>DOLocationID</th>\n",
       "      <th>passenger_count</th>\n",
       "      <th>trip_distance</th>\n",
       "      <th>fare_amount</th>\n",
       "      <th>extra</th>\n",
       "      <th>mta_tax</th>\n",
       "      <th>tip_amount</th>\n",
       "      <th>tolls_amount</th>\n",
       "      <th>ehail_fee</th>\n",
       "      <th>improvement_surcharge</th>\n",
       "      <th>total_amount</th>\n",
       "      <th>payment_type</th>\n",
       "      <th>trip_type</th>\n",
       "      <th>congestion_surcharge</th>\n",
       "    </tr>\n",
       "  </thead>\n",
       "  <tbody>\n",
       "    <tr>\n",
       "      <th>count</th>\n",
       "      <td>72044.000000</td>\n",
       "      <td>72044</td>\n",
       "      <td>72044</td>\n",
       "      <td>67507.000000</td>\n",
       "      <td>72044.000000</td>\n",
       "      <td>72044.000000</td>\n",
       "      <td>67507.000000</td>\n",
       "      <td>72044.000000</td>\n",
       "      <td>72044.000000</td>\n",
       "      <td>72044.000000</td>\n",
       "      <td>72044.000000</td>\n",
       "      <td>72044.000000</td>\n",
       "      <td>72044.000000</td>\n",
       "      <td>0.0</td>\n",
       "      <td>72044.000000</td>\n",
       "      <td>72044.000000</td>\n",
       "      <td>67507.000000</td>\n",
       "      <td>67500.000000</td>\n",
       "      <td>67507.000000</td>\n",
       "    </tr>\n",
       "    <tr>\n",
       "      <th>mean</th>\n",
       "      <td>1.865443</td>\n",
       "      <td>2023-03-16 08:02:42.689842432</td>\n",
       "      <td>2023-03-16 08:20:56.525747968</td>\n",
       "      <td>1.145703</td>\n",
       "      <td>98.437413</td>\n",
       "      <td>137.613556</td>\n",
       "      <td>1.286844</td>\n",
       "      <td>12.449511</td>\n",
       "      <td>17.018203</td>\n",
       "      <td>0.878109</td>\n",
       "      <td>0.576929</td>\n",
       "      <td>2.157651</td>\n",
       "      <td>0.183268</td>\n",
       "      <td>NaN</td>\n",
       "      <td>0.961604</td>\n",
       "      <td>22.292310</td>\n",
       "      <td>1.373680</td>\n",
       "      <td>1.028681</td>\n",
       "      <td>0.714837</td>\n",
       "    </tr>\n",
       "    <tr>\n",
       "      <th>min</th>\n",
       "      <td>1.000000</td>\n",
       "      <td>2023-02-23 16:46:29</td>\n",
       "      <td>2023-02-23 16:55:25</td>\n",
       "      <td>1.000000</td>\n",
       "      <td>1.000000</td>\n",
       "      <td>1.000000</td>\n",
       "      <td>0.000000</td>\n",
       "      <td>0.000000</td>\n",
       "      <td>-115.000000</td>\n",
       "      <td>-5.000000</td>\n",
       "      <td>-0.500000</td>\n",
       "      <td>-1.100000</td>\n",
       "      <td>0.000000</td>\n",
       "      <td>NaN</td>\n",
       "      <td>-1.000000</td>\n",
       "      <td>-116.000000</td>\n",
       "      <td>1.000000</td>\n",
       "      <td>1.000000</td>\n",
       "      <td>-2.750000</td>\n",
       "    </tr>\n",
       "    <tr>\n",
       "      <th>25%</th>\n",
       "      <td>2.000000</td>\n",
       "      <td>2023-03-08 13:55:49.500000</td>\n",
       "      <td>2023-03-08 14:15:59.750000128</td>\n",
       "      <td>1.000000</td>\n",
       "      <td>74.000000</td>\n",
       "      <td>74.000000</td>\n",
       "      <td>1.000000</td>\n",
       "      <td>1.100000</td>\n",
       "      <td>9.300000</td>\n",
       "      <td>0.000000</td>\n",
       "      <td>0.500000</td>\n",
       "      <td>0.000000</td>\n",
       "      <td>0.000000</td>\n",
       "      <td>NaN</td>\n",
       "      <td>1.000000</td>\n",
       "      <td>12.980000</td>\n",
       "      <td>1.000000</td>\n",
       "      <td>1.000000</td>\n",
       "      <td>0.000000</td>\n",
       "    </tr>\n",
       "    <tr>\n",
       "      <th>50%</th>\n",
       "      <td>2.000000</td>\n",
       "      <td>2023-03-16 08:05:27.500000</td>\n",
       "      <td>2023-03-16 08:22:27</td>\n",
       "      <td>1.000000</td>\n",
       "      <td>75.000000</td>\n",
       "      <td>138.000000</td>\n",
       "      <td>1.000000</td>\n",
       "      <td>1.840000</td>\n",
       "      <td>13.500000</td>\n",
       "      <td>0.000000</td>\n",
       "      <td>0.500000</td>\n",
       "      <td>1.600000</td>\n",
       "      <td>0.000000</td>\n",
       "      <td>NaN</td>\n",
       "      <td>1.000000</td>\n",
       "      <td>18.100000</td>\n",
       "      <td>1.000000</td>\n",
       "      <td>1.000000</td>\n",
       "      <td>0.000000</td>\n",
       "    </tr>\n",
       "    <tr>\n",
       "      <th>75%</th>\n",
       "      <td>2.000000</td>\n",
       "      <td>2023-03-23 21:51:25.500000</td>\n",
       "      <td>2023-03-23 22:12:31.500000</td>\n",
       "      <td>1.000000</td>\n",
       "      <td>129.000000</td>\n",
       "      <td>216.000000</td>\n",
       "      <td>1.000000</td>\n",
       "      <td>3.300000</td>\n",
       "      <td>20.000000</td>\n",
       "      <td>1.000000</td>\n",
       "      <td>0.500000</td>\n",
       "      <td>3.360000</td>\n",
       "      <td>0.000000</td>\n",
       "      <td>NaN</td>\n",
       "      <td>1.000000</td>\n",
       "      <td>26.730000</td>\n",
       "      <td>2.000000</td>\n",
       "      <td>1.000000</td>\n",
       "      <td>2.750000</td>\n",
       "    </tr>\n",
       "    <tr>\n",
       "      <th>max</th>\n",
       "      <td>2.000000</td>\n",
       "      <td>2023-04-01 00:09:27</td>\n",
       "      <td>2023-04-01 17:32:21</td>\n",
       "      <td>99.000000</td>\n",
       "      <td>265.000000</td>\n",
       "      <td>265.000000</td>\n",
       "      <td>9.000000</td>\n",
       "      <td>92064.680000</td>\n",
       "      <td>477.000000</td>\n",
       "      <td>12.500000</td>\n",
       "      <td>4.250000</td>\n",
       "      <td>270.270000</td>\n",
       "      <td>36.050000</td>\n",
       "      <td>NaN</td>\n",
       "      <td>1.000000</td>\n",
       "      <td>478.000000</td>\n",
       "      <td>5.000000</td>\n",
       "      <td>2.000000</td>\n",
       "      <td>2.750000</td>\n",
       "    </tr>\n",
       "    <tr>\n",
       "      <th>std</th>\n",
       "      <td>0.341252</td>\n",
       "      <td>NaN</td>\n",
       "      <td>NaN</td>\n",
       "      <td>1.225735</td>\n",
       "      <td>60.481870</td>\n",
       "      <td>76.169705</td>\n",
       "      <td>0.923652</td>\n",
       "      <td>641.094653</td>\n",
       "      <td>13.832399</td>\n",
       "      <td>1.297642</td>\n",
       "      <td>0.384129</td>\n",
       "      <td>3.136215</td>\n",
       "      <td>1.139159</td>\n",
       "      <td>NaN</td>\n",
       "      <td>0.185185</td>\n",
       "      <td>15.852047</td>\n",
       "      <td>0.512307</td>\n",
       "      <td>0.166911</td>\n",
       "      <td>1.206435</td>\n",
       "    </tr>\n",
       "  </tbody>\n",
       "</table>\n",
       "</div>"
      ],
      "text/plain": [
       "           VendorID           lpep_pickup_datetime  \\\n",
       "count  72044.000000                          72044   \n",
       "mean       1.865443  2023-03-16 08:02:42.689842432   \n",
       "min        1.000000            2023-02-23 16:46:29   \n",
       "25%        2.000000     2023-03-08 13:55:49.500000   \n",
       "50%        2.000000     2023-03-16 08:05:27.500000   \n",
       "75%        2.000000     2023-03-23 21:51:25.500000   \n",
       "max        2.000000            2023-04-01 00:09:27   \n",
       "std        0.341252                            NaN   \n",
       "\n",
       "               lpep_dropoff_datetime    RatecodeID  PULocationID  \\\n",
       "count                          72044  67507.000000  72044.000000   \n",
       "mean   2023-03-16 08:20:56.525747968      1.145703     98.437413   \n",
       "min              2023-02-23 16:55:25      1.000000      1.000000   \n",
       "25%    2023-03-08 14:15:59.750000128      1.000000     74.000000   \n",
       "50%              2023-03-16 08:22:27      1.000000     75.000000   \n",
       "75%       2023-03-23 22:12:31.500000      1.000000    129.000000   \n",
       "max              2023-04-01 17:32:21     99.000000    265.000000   \n",
       "std                              NaN      1.225735     60.481870   \n",
       "\n",
       "       DOLocationID  passenger_count  trip_distance   fare_amount  \\\n",
       "count  72044.000000     67507.000000   72044.000000  72044.000000   \n",
       "mean     137.613556         1.286844      12.449511     17.018203   \n",
       "min        1.000000         0.000000       0.000000   -115.000000   \n",
       "25%       74.000000         1.000000       1.100000      9.300000   \n",
       "50%      138.000000         1.000000       1.840000     13.500000   \n",
       "75%      216.000000         1.000000       3.300000     20.000000   \n",
       "max      265.000000         9.000000   92064.680000    477.000000   \n",
       "std       76.169705         0.923652     641.094653     13.832399   \n",
       "\n",
       "              extra       mta_tax    tip_amount  tolls_amount  ehail_fee  \\\n",
       "count  72044.000000  72044.000000  72044.000000  72044.000000        0.0   \n",
       "mean       0.878109      0.576929      2.157651      0.183268        NaN   \n",
       "min       -5.000000     -0.500000     -1.100000      0.000000        NaN   \n",
       "25%        0.000000      0.500000      0.000000      0.000000        NaN   \n",
       "50%        0.000000      0.500000      1.600000      0.000000        NaN   \n",
       "75%        1.000000      0.500000      3.360000      0.000000        NaN   \n",
       "max       12.500000      4.250000    270.270000     36.050000        NaN   \n",
       "std        1.297642      0.384129      3.136215      1.139159        NaN   \n",
       "\n",
       "       improvement_surcharge  total_amount  payment_type     trip_type  \\\n",
       "count           72044.000000  72044.000000  67507.000000  67500.000000   \n",
       "mean                0.961604     22.292310      1.373680      1.028681   \n",
       "min                -1.000000   -116.000000      1.000000      1.000000   \n",
       "25%                 1.000000     12.980000      1.000000      1.000000   \n",
       "50%                 1.000000     18.100000      1.000000      1.000000   \n",
       "75%                 1.000000     26.730000      2.000000      1.000000   \n",
       "max                 1.000000    478.000000      5.000000      2.000000   \n",
       "std                 0.185185     15.852047      0.512307      0.166911   \n",
       "\n",
       "       congestion_surcharge  \n",
       "count          67507.000000  \n",
       "mean               0.714837  \n",
       "min               -2.750000  \n",
       "25%                0.000000  \n",
       "50%                0.000000  \n",
       "75%                2.750000  \n",
       "max                2.750000  \n",
       "std                1.206435  "
      ]
     },
     "execution_count": 32,
     "metadata": {},
     "output_type": "execute_result"
    }
   ],
   "source": [
    "march_data.describe()"
   ]
  },
  {
   "cell_type": "markdown",
   "id": "c12210ab",
   "metadata": {},
   "source": [
    "# Q1. Prepare the dataset"
   ]
  },
  {
   "cell_type": "code",
   "execution_count": 33,
   "id": "b44c37b2",
   "metadata": {},
   "outputs": [
    {
     "data": {
      "text/plain": [
       "(72044, 20)"
      ]
     },
     "execution_count": 33,
     "metadata": {},
     "output_type": "execute_result"
    }
   ],
   "source": [
    "march_data.shape"
   ]
  },
  {
   "cell_type": "code",
   "execution_count": 34,
   "id": "f2934d16",
   "metadata": {},
   "outputs": [],
   "source": [
    "# create target\n",
    "march_data[\"duration_min\"] = march_data.lpep_dropoff_datetime - march_data.lpep_pickup_datetime\n",
    "march_data.duration_min = march_data.duration_min.apply(lambda td : float(td.total_seconds())/60)"
   ]
  },
  {
   "cell_type": "code",
   "execution_count": 35,
   "id": "63210877",
   "metadata": {},
   "outputs": [],
   "source": [
    "# filter out outliers\n",
    "march_data = march_data[(march_data.duration_min >= 0) & (march_data.duration_min <= 60)]\n",
    "march_data = march_data[(march_data.passenger_count > 0) & (march_data.passenger_count <= 8)]"
   ]
  },
  {
   "cell_type": "code",
   "execution_count": 36,
   "id": "56b31a22",
   "metadata": {},
   "outputs": [
    {
     "data": {
      "text/plain": [
       "<Axes: >"
      ]
     },
     "execution_count": 36,
     "metadata": {},
     "output_type": "execute_result"
    },
    {
     "data": {
      "image/png": "[encoded data removed]",
      "text/plain": [
       "<Figure size 640x480 with 1 Axes>"
      ]
     },
     "metadata": {},
     "output_type": "display_data"
    }
   ],
   "source": [
    "march_data.duration_min.hist()"
   ]
  },
  {
   "cell_type": "code",
   "execution_count": 37,
   "id": "e40dff98",
   "metadata": {},
   "outputs": [],
   "source": [
    "# data labeling\n",
    "target = \"duration_min\"\n",
    "num_features = [\"passenger_count\", \"trip_distance\", \"fare_amount\", \"total_amount\"]\n",
    "cat_features = [\"PULocationID\", \"DOLocationID\"]"
   ]
  },
  {
   "cell_type": "code",
   "execution_count": 38,
   "id": "bc0c22a5",
   "metadata": {},
   "outputs": [
    {
     "data": {
      "text/plain": [
       "(66255, 21)"
      ]
     },
     "execution_count": 38,
     "metadata": {},
     "output_type": "execute_result"
    }
   ],
   "source": [
    "march_data.shape"
   ]
  },
  {
   "cell_type": "code",
   "execution_count": 39,
   "id": "05a265a0",
   "metadata": {},
   "outputs": [],
   "source": [
    "train_data = march_data[:30000]\n",
    "val_data = march_data[30000:]"
   ]
  },
  {
   "cell_type": "code",
   "execution_count": 40,
   "id": "e9fb4fc9",
   "metadata": {},
   "outputs": [],
   "source": [
    "model = LinearRegression()"
   ]
  },
  {
   "cell_type": "code",
   "execution_count": 41,
   "id": "0baed5ae",
   "metadata": {},
   "outputs": [
    {
     "data": {
      "text/html": [
       "<style>#sk-container-id-2 {color: black;}#sk-container-id-2 pre{padding: 0;}#sk-container-id-2 div.sk-toggleable {background-color: white;}#sk-container-id-2 label.sk-toggleable__label {cursor: pointer;display: block;width: 100%;margin-bottom: 0;padding: 0.3em;box-sizing: border-box;text-align: center;}#sk-container-id-2 label.sk-toggleable__label-arrow:before {content: \"▸\";float: left;margin-right: 0.25em;color: #696969;}#sk-container-id-2 label.sk-toggleable__label-arrow:hover:before {color: black;}#sk-container-id-2 div.sk-estimator:hover label.sk-toggleable__label-arrow:before {color: black;}#sk-container-id-2 div.sk-toggleable__content {max-height: 0;max-width: 0;overflow: hidden;text-align: left;background-color: #f0f8ff;}#sk-container-id-2 div.sk-toggleable__content pre {margin: 0.2em;color: black;border-radius: 0.25em;background-color: #f0f8ff;}#sk-container-id-2 input.sk-toggleable__control:checked~div.sk-toggleable__content {max-height: 200px;max-width: 100%;overflow: auto;}#sk-container-id-2 input.sk-toggleable__control:checked~label.sk-toggleable__label-arrow:before {content: \"▾\";}#sk-container-id-2 div.sk-estimator input.sk-toggleable__control:checked~label.sk-toggleable__label {background-color: #d4ebff;}#sk-container-id-2 div.sk-label input.sk-toggleable__control:checked~label.sk-toggleable__label {background-color: #d4ebff;}#sk-container-id-2 input.sk-hidden--visually {border: 0;clip: rect(1px 1px 1px 1px);clip: rect(1px, 1px, 1px, 1px);height: 1px;margin: -1px;overflow: hidden;padding: 0;position: absolute;width: 1px;}#sk-container-id-2 div.sk-estimator {font-family: monospace;background-color: #f0f8ff;border: 1px dotted black;border-radius: 0.25em;box-sizing: border-box;margin-bottom: 0.5em;}#sk-container-id-2 div.sk-estimator:hover {background-color: #d4ebff;}#sk-container-id-2 div.sk-parallel-item::after {content: \"\";width: 100%;border-bottom: 1px solid gray;flex-grow: 1;}#sk-container-id-2 div.sk-label:hover label.sk-toggleable__label {background-color: #d4ebff;}#sk-container-id-2 div.sk-serial::before {content: \"\";position: absolute;border-left: 1px solid gray;box-sizing: border-box;top: 0;bottom: 0;left: 50%;z-index: 0;}#sk-container-id-2 div.sk-serial {display: flex;flex-direction: column;align-items: center;background-color: white;padding-right: 0.2em;padding-left: 0.2em;position: relative;}#sk-container-id-2 div.sk-item {position: relative;z-index: 1;}#sk-container-id-2 div.sk-parallel {display: flex;align-items: stretch;justify-content: center;background-color: white;position: relative;}#sk-container-id-2 div.sk-item::before, #sk-container-id-2 div.sk-parallel-item::before {content: \"\";position: absolute;border-left: 1px solid gray;box-sizing: border-box;top: 0;bottom: 0;left: 50%;z-index: -1;}#sk-container-id-2 div.sk-parallel-item {display: flex;flex-direction: column;z-index: 1;position: relative;background-color: white;}#sk-container-id-2 div.sk-parallel-item:first-child::after {align-self: flex-end;width: 50%;}#sk-container-id-2 div.sk-parallel-item:last-child::after {align-self: flex-start;width: 50%;}#sk-container-id-2 div.sk-parallel-item:only-child::after {width: 0;}#sk-container-id-2 div.sk-dashed-wrapped {border: 1px dashed gray;margin: 0 0.4em 0.5em 0.4em;box-sizing: border-box;padding-bottom: 0.4em;background-color: white;}#sk-container-id-2 div.sk-label label {font-family: monospace;font-weight: bold;display: inline-block;line-height: 1.2em;}#sk-container-id-2 div.sk-label-container {text-align: center;}#sk-container-id-2 div.sk-container {/* jupyter's `normalize.less` sets `[hidden] { display: none; }` but bootstrap.min.css set `[hidden] { display: none !important; }` so we also need the `!important` here to be able to override the default hidden behavior on the sphinx rendered scikit-learn.org. See: https://github.com/scikit-learn/scikit-learn/issues/21755 */display: inline-block !important;position: relative;}#sk-container-id-2 div.sk-text-repr-fallback {display: none;}</style><div id=\"sk-container-id-2\" class=\"sk-top-container\"><div class=\"sk-text-repr-fallback\"><pre>LinearRegression()</pre><b>In a Jupyter environment, please rerun this cell to show the HTML representation or trust the notebook. <br />On GitHub, the HTML representation is unable to render, please try loading this page with nbviewer.org.</b></div><div class=\"sk-container\" hidden><div class=\"sk-item\"><div class=\"sk-estimator sk-toggleable\"><input class=\"sk-toggleable__control sk-hidden--visually\" id=\"sk-estimator-id-2\" type=\"checkbox\" checked><label for=\"sk-estimator-id-2\" class=\"sk-toggleable__label sk-toggleable__label-arrow\">LinearRegression</label><div class=\"sk-toggleable__content\"><pre>LinearRegression()</pre></div></div></div></div></div>"
      ],
      "text/plain": [
       "LinearRegression()"
      ]
     },
     "execution_count": 41,
     "metadata": {},
     "output_type": "execute_result"
    }
   ],
   "source": [
    "model.fit(train_data[num_features + cat_features], train_data[target])"
   ]
  },
  {
   "cell_type": "code",
   "execution_count": 42,
   "id": "c1fa3c38",
   "metadata": {},
   "outputs": [],
   "source": [
    "train_preds = model.predict(train_data[num_features + cat_features])\n",
    "train_data['prediction'] = train_preds"
   ]
  },
  {
   "cell_type": "code",
   "execution_count": 43,
   "id": "84293b52",
   "metadata": {},
   "outputs": [],
   "source": [
    "val_preds = model.predict(val_data[num_features + cat_features])\n",
    "val_data['prediction'] = val_preds"
   ]
  },
  {
   "cell_type": "code",
   "execution_count": 44,
   "id": "0af9d288",
   "metadata": {},
   "outputs": [
    {
     "name": "stdout",
     "output_type": "stream",
     "text": [
      "3.5641759571064924\n",
      "3.646951695051199\n"
     ]
    }
   ],
   "source": [
    "print(mean_absolute_error(train_data.duration_min, train_data.prediction))\n",
    "print(mean_absolute_error(val_data.duration_min, val_data.prediction))"
   ]
  },
  {
   "cell_type": "markdown",
   "id": "fc441899",
   "metadata": {},
   "source": [
    "# Dump model and reference data"
   ]
  },
  {
   "cell_type": "code",
   "execution_count": 45,
   "id": "dfb4068b",
   "metadata": {},
   "outputs": [],
   "source": [
    "with open('./lin_reg.bin', 'wb') as f_out:\n",
    "    dump(model, f_out)"
   ]
  },
  {
   "cell_type": "code",
   "execution_count": 46,
   "id": "a1aa065f",
   "metadata": {},
   "outputs": [],
   "source": [
    "val_data.to_parquet('./reference.parquet')"
   ]
  },
  {
   "cell_type": "markdown",
   "id": "a195b327",
   "metadata": {},
   "source": [
    "# Evidently Report"
   ]
  },
  {
   "cell_type": "code",
   "execution_count": 47,
   "id": "56403137",
   "metadata": {},
   "outputs": [],
   "source": [
    "column_mapping = ColumnMapping(\n",
    "    target=None,\n",
    "    prediction='prediction',\n",
    "    numerical_features=num_features,\n",
    "    categorical_features=cat_features\n",
    ")"
   ]
  },
  {
   "cell_type": "code",
   "execution_count": 48,
   "id": "37421e00",
   "metadata": {},
   "outputs": [],
   "source": [
    "from evidently.metrics import ColumnQuantileMetric"
   ]
  },
  {
   "cell_type": "markdown",
   "id": "5528bf13",
   "metadata": {},
   "source": [
    "# Q2. Metric"
   ]
  },
  {
   "cell_type": "code",
   "execution_count": 49,
   "id": "36bf31c2",
   "metadata": {},
   "outputs": [],
   "source": [
    "report = Report(metrics=[\n",
    "    ColumnDriftMetric(column_name='prediction'),\n",
    "    DatasetDriftMetric(),\n",
    "    DatasetMissingValuesMetric(),\n",
    "    ColumnQuantileMetric(column_name=\"fare_amount\", quantile=0.5)\n",
    "]\n",
    ")"
   ]
  },
  {
   "cell_type": "code",
   "execution_count": 50,
   "id": "996eb8b8",
   "metadata": {},
   "outputs": [],
   "source": [
    "report.run(reference_data=train_data, current_data=val_data, column_mapping=column_mapping)"
   ]
  },
  {
   "cell_type": "code",
   "execution_count": 51,
   "id": "3e7aaea2",
   "metadata": {
    "scrolled": false
   },
   "outputs": [],
   "source": [
    "report.show(mode='inline')"
   ]
  },
  {
   "cell_type": "code",
   "execution_count": 52,
   "id": "397adec5",
   "metadata": {},
   "outputs": [],
   "source": [
    "result = report.as_dict()"
   ]
  },
  {
   "cell_type": "code",
   "execution_count": 53,
   "id": "84c99580",
   "metadata": {
    "scrolled": true
   },
   "outputs": [
    {
     "data": {
      "text/plain": [
       "{'metrics': [{'metric': 'ColumnDriftMetric',\n",
       "   'result': {'column_name': 'prediction',\n",
       "    'column_type': 'num',\n",
       "    'stattest_name': 'Wasserstein distance (normed)',\n",
       "    'stattest_threshold': 0.1,\n",
       "    'drift_score': 0.02191274473735342,\n",
       "    'drift_detected': False,\n",
       "    'current': {'small_distribution': {'x': [-29.97693868706996,\n",
       "       -6.360433663687505,\n",
       "       17.25607135969495,\n",
       "       40.8725763830774,\n",
       "       64.48908140645986,\n",
       "       88.10558642984232,\n",
       "       111.72209145322476,\n",
       "       135.33859647660722,\n",
       "       158.95510149998967,\n",
       "       182.5716065233721,\n",
       "       206.1881115467546],\n",
       "      'y': [9.343432451141222e-06,\n",
       "       0.0344305485824554,\n",
       "       0.007515623477886722,\n",
       "       0.00034570700069222514,\n",
       "       2.335858112785305e-05,\n",
       "       8.175503394748573e-06,\n",
       "       5.839645281963262e-06,\n",
       "       1.1679290563926532e-06,\n",
       "       2.3358581127853063e-06,\n",
       "       1.1679290563926504e-06]}},\n",
       "    'reference': {'small_distribution': {'x': [-44.79458026994594,\n",
       "       -20.705700872911216,\n",
       "       3.383178524123508,\n",
       "       27.472057921158225,\n",
       "       51.560937318192956,\n",
       "       75.64981671522769,\n",
       "       99.73869611226239,\n",
       "       123.82757550929712,\n",
       "       147.91645490633186,\n",
       "       172.00533430336657,\n",
       "       196.09421370040133],\n",
       "      'y': [1.5221408211782669e-05,\n",
       "       0.00010654985748247867,\n",
       "       0.03960887169582429,\n",
       "       0.0016729711389132037,\n",
       "       7.610704105891332e-05,\n",
       "       2.4907758892008026e-05,\n",
       "       2.767528765778666e-06,\n",
       "       2.7675287657786645e-06,\n",
       "       1.3837643828893346e-06,\n",
       "       1.3837643828893314e-06]}}}},\n",
       "  {'metric': 'DatasetDriftMetric',\n",
       "   'result': {'drift_share': 0.5,\n",
       "    'number_of_columns': 7,\n",
       "    'number_of_drifted_columns': 0,\n",
       "    'share_of_drifted_columns': 0.0,\n",
       "    'dataset_drift': False}},\n",
       "  {'metric': 'DatasetMissingValuesMetric',\n",
       "   'result': {'current': {'different_missing_values': {'': 0,\n",
       "      -inf: 0,\n",
       "      None: 36257,\n",
       "      inf: 0},\n",
       "     'number_of_different_missing_values': 1,\n",
       "     'different_missing_values_by_column': {'VendorID': {'': 0,\n",
       "       -inf: 0,\n",
       "       None: 0,\n",
       "       inf: 0},\n",
       "      'lpep_pickup_datetime': {'': 0, -inf: 0, None: 0, inf: 0},\n",
       "      'lpep_dropoff_datetime': {'': 0, -inf: 0, None: 0, inf: 0},\n",
       "      'store_and_fwd_flag': {'': 0, -inf: 0, None: 0, inf: 0},\n",
       "      'RatecodeID': {'': 0, -inf: 0, None: 0, inf: 0},\n",
       "      'PULocationID': {'': 0, -inf: 0, None: 0, inf: 0},\n",
       "      'DOLocationID': {'': 0, -inf: 0, None: 0, inf: 0},\n",
       "      'passenger_count': {'': 0, -inf: 0, None: 0, inf: 0},\n",
       "      'trip_distance': {'': 0, -inf: 0, None: 0, inf: 0},\n",
       "      'fare_amount': {'': 0, -inf: 0, None: 0, inf: 0},\n",
       "      'extra': {'': 0, -inf: 0, None: 0, inf: 0},\n",
       "      'mta_tax': {'': 0, -inf: 0, None: 0, inf: 0},\n",
       "      'tip_amount': {'': 0, -inf: 0, None: 0, inf: 0},\n",
       "      'tolls_amount': {'': 0, -inf: 0, None: 0, inf: 0},\n",
       "      'ehail_fee': {'': 0, -inf: 0, None: 36255, inf: 0},\n",
       "      'improvement_surcharge': {'': 0, -inf: 0, None: 0, inf: 0},\n",
       "      'total_amount': {'': 0, -inf: 0, None: 0, inf: 0},\n",
       "      'payment_type': {'': 0, -inf: 0, None: 0, inf: 0},\n",
       "      'trip_type': {'': 0, -inf: 0, None: 2, inf: 0},\n",
       "      'congestion_surcharge': {'': 0, -inf: 0, None: 0, inf: 0},\n",
       "      'duration_min': {'': 0, -inf: 0, None: 0, inf: 0},\n",
       "      'prediction': {'': 0, -inf: 0, None: 0, inf: 0}},\n",
       "     'number_of_different_missing_values_by_column': {'VendorID': 0,\n",
       "      'lpep_pickup_datetime': 0,\n",
       "      'lpep_dropoff_datetime': 0,\n",
       "      'store_and_fwd_flag': 0,\n",
       "      'RatecodeID': 0,\n",
       "      'PULocationID': 0,\n",
       "      'DOLocationID': 0,\n",
       "      'passenger_count': 0,\n",
       "      'trip_distance': 0,\n",
       "      'fare_amount': 0,\n",
       "      'extra': 0,\n",
       "      'mta_tax': 0,\n",
       "      'tip_amount': 0,\n",
       "      'tolls_amount': 0,\n",
       "      'ehail_fee': 1,\n",
       "      'improvement_surcharge': 0,\n",
       "      'total_amount': 0,\n",
       "      'payment_type': 0,\n",
       "      'trip_type': 1,\n",
       "      'congestion_surcharge': 0,\n",
       "      'duration_min': 0,\n",
       "      'prediction': 0},\n",
       "     'number_of_missing_values': 36257,\n",
       "     'share_of_missing_values': 0.0454570529456752,\n",
       "     'number_of_missing_values_by_column': {'VendorID': 0,\n",
       "      'lpep_pickup_datetime': 0,\n",
       "      'lpep_dropoff_datetime': 0,\n",
       "      'store_and_fwd_flag': 0,\n",
       "      'RatecodeID': 0,\n",
       "      'PULocationID': 0,\n",
       "      'DOLocationID': 0,\n",
       "      'passenger_count': 0,\n",
       "      'trip_distance': 0,\n",
       "      'fare_amount': 0,\n",
       "      'extra': 0,\n",
       "      'mta_tax': 0,\n",
       "      'tip_amount': 0,\n",
       "      'tolls_amount': 0,\n",
       "      'ehail_fee': 36255,\n",
       "      'improvement_surcharge': 0,\n",
       "      'total_amount': 0,\n",
       "      'payment_type': 0,\n",
       "      'trip_type': 2,\n",
       "      'congestion_surcharge': 0,\n",
       "      'duration_min': 0,\n",
       "      'prediction': 0},\n",
       "     'share_of_missing_values_by_column': {'VendorID': 0.0,\n",
       "      'lpep_pickup_datetime': 0.0,\n",
       "      'lpep_dropoff_datetime': 0.0,\n",
       "      'store_and_fwd_flag': 0.0,\n",
       "      'RatecodeID': 0.0,\n",
       "      'PULocationID': 0.0,\n",
       "      'DOLocationID': 0.0,\n",
       "      'passenger_count': 0.0,\n",
       "      'trip_distance': 0.0,\n",
       "      'fare_amount': 0.0,\n",
       "      'extra': 0.0,\n",
       "      'mta_tax': 0.0,\n",
       "      'tip_amount': 0.0,\n",
       "      'tolls_amount': 0.0,\n",
       "      'ehail_fee': 1.0,\n",
       "      'improvement_surcharge': 0.0,\n",
       "      'total_amount': 0.0,\n",
       "      'payment_type': 0.0,\n",
       "      'trip_type': 5.5164804854502824e-05,\n",
       "      'congestion_surcharge': 0.0,\n",
       "      'duration_min': 0.0,\n",
       "      'prediction': 0.0},\n",
       "     'number_of_rows': 36255,\n",
       "     'number_of_rows_with_missing_values': 36255,\n",
       "     'share_of_rows_with_missing_values': 1.0,\n",
       "     'number_of_columns': 22,\n",
       "     'columns_with_missing_values': ['ehail_fee', 'trip_type'],\n",
       "     'number_of_columns_with_missing_values': 2,\n",
       "     'share_of_columns_with_missing_values': 0.09090909090909091},\n",
       "    'reference': {'different_missing_values': {'': 0,\n",
       "      -inf: 0,\n",
       "      None: 30000,\n",
       "      inf: 0},\n",
       "     'number_of_different_missing_values': 1,\n",
       "     'different_missing_values_by_column': {'VendorID': {'': 0,\n",
       "       -inf: 0,\n",
       "       None: 0,\n",
       "       inf: 0},\n",
       "      'lpep_pickup_datetime': {'': 0, -inf: 0, None: 0, inf: 0},\n",
       "      'lpep_dropoff_datetime': {'': 0, -inf: 0, None: 0, inf: 0},\n",
       "      'store_and_fwd_flag': {'': 0, -inf: 0, None: 0, inf: 0},\n",
       "      'RatecodeID': {'': 0, -inf: 0, None: 0, inf: 0},\n",
       "      'PULocationID': {'': 0, -inf: 0, None: 0, inf: 0},\n",
       "      'DOLocationID': {'': 0, -inf: 0, None: 0, inf: 0},\n",
       "      'passenger_count': {'': 0, -inf: 0, None: 0, inf: 0},\n",
       "      'trip_distance': {'': 0, -inf: 0, None: 0, inf: 0},\n",
       "      'fare_amount': {'': 0, -inf: 0, None: 0, inf: 0},\n",
       "      'extra': {'': 0, -inf: 0, None: 0, inf: 0},\n",
       "      'mta_tax': {'': 0, -inf: 0, None: 0, inf: 0},\n",
       "      'tip_amount': {'': 0, -inf: 0, None: 0, inf: 0},\n",
       "      'tolls_amount': {'': 0, -inf: 0, None: 0, inf: 0},\n",
       "      'ehail_fee': {'': 0, -inf: 0, None: 30000, inf: 0},\n",
       "      'improvement_surcharge': {'': 0, -inf: 0, None: 0, inf: 0},\n",
       "      'total_amount': {'': 0, -inf: 0, None: 0, inf: 0},\n",
       "      'payment_type': {'': 0, -inf: 0, None: 0, inf: 0},\n",
       "      'trip_type': {'': 0, -inf: 0, None: 0, inf: 0},\n",
       "      'congestion_surcharge': {'': 0, -inf: 0, None: 0, inf: 0},\n",
       "      'duration_min': {'': 0, -inf: 0, None: 0, inf: 0},\n",
       "      'prediction': {'': 0, -inf: 0, None: 0, inf: 0}},\n",
       "     'number_of_different_missing_values_by_column': {'VendorID': 0,\n",
       "      'lpep_pickup_datetime': 0,\n",
       "      'lpep_dropoff_datetime': 0,\n",
       "      'store_and_fwd_flag': 0,\n",
       "      'RatecodeID': 0,\n",
       "      'PULocationID': 0,\n",
       "      'DOLocationID': 0,\n",
       "      'passenger_count': 0,\n",
       "      'trip_distance': 0,\n",
       "      'fare_amount': 0,\n",
       "      'extra': 0,\n",
       "      'mta_tax': 0,\n",
       "      'tip_amount': 0,\n",
       "      'tolls_amount': 0,\n",
       "      'ehail_fee': 1,\n",
       "      'improvement_surcharge': 0,\n",
       "      'total_amount': 0,\n",
       "      'payment_type': 0,\n",
       "      'trip_type': 0,\n",
       "      'congestion_surcharge': 0,\n",
       "      'duration_min': 0,\n",
       "      'prediction': 0},\n",
       "     'number_of_missing_values': 30000,\n",
       "     'share_of_missing_values': 0.045454545454545456,\n",
       "     'number_of_missing_values_by_column': {'VendorID': 0,\n",
       "      'lpep_pickup_datetime': 0,\n",
       "      'lpep_dropoff_datetime': 0,\n",
       "      'store_and_fwd_flag': 0,\n",
       "      'RatecodeID': 0,\n",
       "      'PULocationID': 0,\n",
       "      'DOLocationID': 0,\n",
       "      'passenger_count': 0,\n",
       "      'trip_distance': 0,\n",
       "      'fare_amount': 0,\n",
       "      'extra': 0,\n",
       "      'mta_tax': 0,\n",
       "      'tip_amount': 0,\n",
       "      'tolls_amount': 0,\n",
       "      'ehail_fee': 30000,\n",
       "      'improvement_surcharge': 0,\n",
       "      'total_amount': 0,\n",
       "      'payment_type': 0,\n",
       "      'trip_type': 0,\n",
       "      'congestion_surcharge': 0,\n",
       "      'duration_min': 0,\n",
       "      'prediction': 0},\n",
       "     'share_of_missing_values_by_column': {'VendorID': 0.0,\n",
       "      'lpep_pickup_datetime': 0.0,\n",
       "      'lpep_dropoff_datetime': 0.0,\n",
       "      'store_and_fwd_flag': 0.0,\n",
       "      'RatecodeID': 0.0,\n",
       "      'PULocationID': 0.0,\n",
       "      'DOLocationID': 0.0,\n",
       "      'passenger_count': 0.0,\n",
       "      'trip_distance': 0.0,\n",
       "      'fare_amount': 0.0,\n",
       "      'extra': 0.0,\n",
       "      'mta_tax': 0.0,\n",
       "      'tip_amount': 0.0,\n",
       "      'tolls_amount': 0.0,\n",
       "      'ehail_fee': 1.0,\n",
       "      'improvement_surcharge': 0.0,\n",
       "      'total_amount': 0.0,\n",
       "      'payment_type': 0.0,\n",
       "      'trip_type': 0.0,\n",
       "      'congestion_surcharge': 0.0,\n",
       "      'duration_min': 0.0,\n",
       "      'prediction': 0.0},\n",
       "     'number_of_rows': 30000,\n",
       "     'number_of_rows_with_missing_values': 30000,\n",
       "     'share_of_rows_with_missing_values': 1.0,\n",
       "     'number_of_columns': 22,\n",
       "     'columns_with_missing_values': ['ehail_fee'],\n",
       "     'number_of_columns_with_missing_values': 1,\n",
       "     'share_of_columns_with_missing_values': 0.045454545454545456}}},\n",
       "  {'metric': 'ColumnQuantileMetric',\n",
       "   'result': {'column_name': 'fare_amount',\n",
       "    'column_type': 'num',\n",
       "    'quantile': 0.5,\n",
       "    'current': {'value': 12.8},\n",
       "    'reference': {'value': 12.8}}}]}"
      ]
     },
     "execution_count": 53,
     "metadata": {},
     "output_type": "execute_result"
    }
   ],
   "source": [
    "result"
   ]
  },
  {
   "cell_type": "code",
   "execution_count": 54,
   "id": "7fa07745",
   "metadata": {},
   "outputs": [
    {
     "data": {
      "text/plain": [
       "0.02191274473735342"
      ]
     },
     "execution_count": 54,
     "metadata": {},
     "output_type": "execute_result"
    }
   ],
   "source": [
    "#prediction drift\n",
    "result['metrics'][0]['result']['drift_score']"
   ]
  },
  {
   "cell_type": "code",
   "execution_count": 55,
   "id": "e1c8f836",
   "metadata": {},
   "outputs": [
    {
     "data": {
      "text/plain": [
       "0"
      ]
     },
     "execution_count": 55,
     "metadata": {},
     "output_type": "execute_result"
    }
   ],
   "source": [
    "#number of drifted columns\n",
    "result['metrics'][1]['result']['number_of_drifted_columns']"
   ]
  },
  {
   "cell_type": "code",
   "execution_count": 56,
   "id": "71c07269",
   "metadata": {},
   "outputs": [
    {
     "data": {
      "text/plain": [
       "0.0454570529456752"
      ]
     },
     "execution_count": 56,
     "metadata": {},
     "output_type": "execute_result"
    }
   ],
   "source": [
    "#share of missing values\n",
    "result['metrics'][2]['result']['current']['share_of_missing_values']"
   ]
  },
  {
   "cell_type": "code",
   "execution_count": 57,
   "id": "d5b0f66a",
   "metadata": {},
   "outputs": [
    {
     "data": {
      "text/plain": [
       "12.8"
      ]
     },
     "execution_count": 57,
     "metadata": {},
     "output_type": "execute_result"
    }
   ],
   "source": [
    "result['metrics'][3]['result']['current']['value']"
   ]
  },
  {
   "cell_type": "markdown",
   "id": "3041d196",
   "metadata": {},
   "source": [
    "# Q3. Prefect flow"
   ]
  },
  {
   "cell_type": "markdown",
   "id": "39886d45",
   "metadata": {},
   "source": [
    "@task(retries=2, retry_delay_seconds=5, name=\"calculate metrics\") <-correct"
   ]
  },
  {
   "cell_type": "markdown",
   "id": "026384c3",
   "metadata": {},
   "source": [
    "# Q4. Monitoring"
   ]
  },
  {
   "cell_type": "code",
   "execution_count": 63,
   "id": "9b3c6a37",
   "metadata": {
    "scrolled": false
   },
   "outputs": [
    {
     "name": "stdout",
     "output_type": "stream",
     "text": [
      "/home/tim/.pyenv/versions/monitoring/lib/python3.9/site-packages/umap/distances.py:1063: NumbaDeprecationWarning: \u001b[1mThe 'nopython' keyword argument was not supplied to the 'numba.jit' decorator. The implicit default value for this argument is currently False, but it will be changed to True in Numba 0.59.0. See https://numba.readthedocs.io/en/stable/reference/deprecation.html#deprecation-of-object-mode-fall-back-behaviour-when-using-jit for details.\u001b[0m\n",
      "  @numba.jit()\n",
      "/home/tim/.pyenv/versions/monitoring/lib/python3.9/site-packages/umap/distances.py:1071: NumbaDeprecationWarning: \u001b[1mThe 'nopython' keyword argument was not supplied to the 'numba.jit' decorator. The implicit default value for this argument is currently False, but it will be changed to True in Numba 0.59.0. See https://numba.readthedocs.io/en/stable/reference/deprecation.html#deprecation-of-object-mode-fall-back-behaviour-when-using-jit for details.\u001b[0m\n",
      "  @numba.jit()\n",
      "/home/tim/.pyenv/versions/monitoring/lib/python3.9/site-packages/umap/distances.py:1086: NumbaDeprecationWarning: \u001b[1mThe 'nopython' keyword argument was not supplied to the 'numba.jit' decorator. The implicit default value for this argument is currently False, but it will be changed to True in Numba 0.59.0. See https://numba.readthedocs.io/en/stable/reference/deprecation.html#deprecation-of-object-mode-fall-back-behaviour-when-using-jit for details.\u001b[0m\n",
      "  @numba.jit()\n",
      "/home/tim/.pyenv/versions/monitoring/lib/python3.9/site-packages/umap/umap_.py:660: NumbaDeprecationWarning: \u001b[1mThe 'nopython' keyword argument was not supplied to the 'numba.jit' decorator. The implicit default value for this argument is currently False, but it will be changed to True in Numba 0.59.0. See https://numba.readthedocs.io/en/stable/reference/deprecation.html#deprecation-of-object-mode-fall-back-behaviour-when-using-jit for details.\u001b[0m\n",
      "  @numba.jit()\n",
      "22:24:56.798 | \u001b[36mINFO\u001b[0m    | prefect.engine - Created flow run\u001b[35m 'loyal-ape'\u001b[0m for flow\u001b[1;35m 'batch-monitoring-backfill'\u001b[0m\n",
      "22:24:56.804 | \u001b[36mINFO\u001b[0m    | Flow run\u001b[35m 'loyal-ape'\u001b[0m - View at \u001b[94mhttps://app.prefect.cloud/account/873e380a-98c8-4fc4-978a-88f4134b71d3/workspace/e4d9b0c9-56f6-4922-95c5-d1d6117b4931/flow-runs/flow-run/38d67593-4f6a-4ea0-818c-08bdbe6218e4\u001b[0m\n",
      "22:24:58.028 | \u001b[36mINFO\u001b[0m    | Flow run\u001b[35m 'loyal-ape'\u001b[0m - Created task run 'prep_db-0' for task 'prep_db'\n",
      "22:24:58.031 | \u001b[36mINFO\u001b[0m    | Flow run\u001b[35m 'loyal-ape'\u001b[0m - Executing 'prep_db-0' immediately...\n",
      "22:24:59.031 | \u001b[36mINFO\u001b[0m    | Task run 'prep_db-0' - Finished in state \u001b[32mCompleted\u001b[0m()\n",
      "22:24:59.294 | \u001b[36mINFO\u001b[0m    | Flow run\u001b[35m 'loyal-ape'\u001b[0m - Created task run 'calculate metrics-0' for task 'calculate metrics'\n",
      "22:24:59.294 | \u001b[36mINFO\u001b[0m    | Flow run\u001b[35m 'loyal-ape'\u001b[0m - Executing 'calculate metrics-0' immediately...\n",
      "0 0.31542369067659365 4 0.06432748538011696 12.8\n",
      "22:25:05.450 | \u001b[36mINFO\u001b[0m    | Task run 'calculate metrics-0' - Finished in state \u001b[32mCompleted\u001b[0m()\n",
      "22:25:05.792 | \u001b[36mINFO\u001b[0m    | Flow run\u001b[35m 'loyal-ape'\u001b[0m - Created task run 'calculate metrics-1' for task 'calculate metrics'\n",
      "22:25:05.793 | \u001b[36mINFO\u001b[0m    | Flow run\u001b[35m 'loyal-ape'\u001b[0m - Executing 'calculate metrics-1' immediately...\n",
      "1 2.080613235430098 4 0.06587025053924009 13.5\n",
      "22:25:11.745 | \u001b[36mINFO\u001b[0m    | Task run 'calculate metrics-1' - Finished in state \u001b[32mCompleted\u001b[0m()\n",
      "22:25:19.299 | \u001b[36mINFO\u001b[0m    | Flow run\u001b[35m 'loyal-ape'\u001b[0m - Created task run 'calculate metrics-2' for task 'calculate metrics'\n",
      "22:25:19.300 | \u001b[36mINFO\u001b[0m    | Flow run\u001b[35m 'loyal-ape'\u001b[0m - Executing 'calculate metrics-2' immediately...\n",
      "2 1.7434151159669076 4 0.06603244682714882 13.5\n",
      "22:25:24.902 | \u001b[36mINFO\u001b[0m    | Task run 'calculate metrics-2' - Finished in state \u001b[32mCompleted\u001b[0m()\n",
      "22:25:29.297 | \u001b[36mINFO\u001b[0m    | Flow run\u001b[35m 'loyal-ape'\u001b[0m - Created task run 'calculate metrics-3' for task 'calculate metrics'\n",
      "22:25:29.298 | \u001b[36mINFO\u001b[0m    | Flow run\u001b[35m 'loyal-ape'\u001b[0m - Executing 'calculate metrics-3' immediately...\n",
      "3 0.30664657174717785 4 0.06633119853613907 13.5\n",
      "22:25:34.817 | \u001b[36mINFO\u001b[0m    | Task run 'calculate metrics-3' - Finished in state \u001b[32mCompleted\u001b[0m()\n",
      "22:25:39.261 | \u001b[36mINFO\u001b[0m    | Flow run\u001b[35m 'loyal-ape'\u001b[0m - Created task run 'calculate metrics-4' for task 'calculate metrics'\n",
      "22:25:39.262 | \u001b[36mINFO\u001b[0m    | Flow run\u001b[35m 'loyal-ape'\u001b[0m - Executing 'calculate metrics-4' immediately...\n",
      "4 0.8745248005944732 4 0.06410849129295731 13.5\n",
      "22:25:44.691 | \u001b[36mINFO\u001b[0m    | Task run 'calculate metrics-4' - Finished in state \u001b[32mCompleted\u001b[0m()\n",
      "22:25:49.205 | \u001b[36mINFO\u001b[0m    | Flow run\u001b[35m 'loyal-ape'\u001b[0m - Created task run 'calculate metrics-5' for task 'calculate metrics'\n",
      "22:25:49.206 | \u001b[36mINFO\u001b[0m    | Flow run\u001b[35m 'loyal-ape'\u001b[0m - Executing 'calculate metrics-5' immediately...\n",
      "5 1.054191769590155 4 0.06448283691456644 13.05\n",
      "22:25:54.718 | \u001b[36mINFO\u001b[0m    | Task run 'calculate metrics-5' - Finished in state \u001b[32mCompleted\u001b[0m()\n",
      "22:25:59.269 | \u001b[36mINFO\u001b[0m    | Flow run\u001b[35m 'loyal-ape'\u001b[0m - Created task run 'calculate metrics-6' for task 'calculate metrics'\n",
      "22:25:59.271 | \u001b[36mINFO\u001b[0m    | Flow run\u001b[35m 'loyal-ape'\u001b[0m - Executing 'calculate metrics-6' immediately...\n",
      "6 0.8116072094774139 4 0.06181671435908724 12.8\n",
      "22:26:04.842 | \u001b[36mINFO\u001b[0m    | Task run 'calculate metrics-6' - Finished in state \u001b[32mCompleted\u001b[0m()\n",
      "22:26:09.269 | \u001b[36mINFO\u001b[0m    | Flow run\u001b[35m 'loyal-ape'\u001b[0m - Created task run 'calculate metrics-7' for task 'calculate metrics'\n",
      "22:26:09.270 | \u001b[36mINFO\u001b[0m    | Flow run\u001b[35m 'loyal-ape'\u001b[0m - Executing 'calculate metrics-7' immediately...\n",
      "7 0.07389666577517959 2 0.05449820377589238 12.8\n",
      "22:26:15.067 | \u001b[36mINFO\u001b[0m    | Task run 'calculate metrics-7' - Finished in state \u001b[32mCompleted\u001b[0m()\n",
      "22:26:19.255 | \u001b[36mINFO\u001b[0m    | Flow run\u001b[35m 'loyal-ape'\u001b[0m - Created task run 'calculate metrics-8' for task 'calculate metrics'\n",
      "22:26:19.256 | \u001b[36mINFO\u001b[0m    | Flow run\u001b[35m 'loyal-ape'\u001b[0m - Executing 'calculate metrics-8' immediately...\n",
      "8 0.1323087410497197 6 0.06736130152636871 13.5\n",
      "22:26:24.682 | \u001b[36mINFO\u001b[0m    | Task run 'calculate metrics-8' - Finished in state \u001b[32mCompleted\u001b[0m()\n",
      "22:26:29.293 | \u001b[36mINFO\u001b[0m    | Flow run\u001b[35m 'loyal-ape'\u001b[0m - Created task run 'calculate metrics-9' for task 'calculate metrics'\n",
      "22:26:29.294 | \u001b[36mINFO\u001b[0m    | Flow run\u001b[35m 'loyal-ape'\u001b[0m - Executing 'calculate metrics-9' immediately...\n",
      "9 0.11895537561969612 4 0.07016369047619048 13.5\n",
      "22:26:34.752 | \u001b[36mINFO\u001b[0m    | Task run 'calculate metrics-9' - Finished in state \u001b[32mCompleted\u001b[0m()\n",
      "22:26:39.253 | \u001b[36mINFO\u001b[0m    | Flow run\u001b[35m 'loyal-ape'\u001b[0m - Created task run 'calculate metrics-10' for task 'calculate metrics'\n",
      "22:26:39.254 | \u001b[36mINFO\u001b[0m    | Flow run\u001b[35m 'loyal-ape'\u001b[0m - Executing 'calculate metrics-10' immediately...\n",
      "10 0.49200921853670254 4 0.06366582806373382 13.5\n",
      "22:26:45.084 | \u001b[36mINFO\u001b[0m    | Task run 'calculate metrics-10' - Finished in state \u001b[32mCompleted\u001b[0m()\n",
      "22:26:49.280 | \u001b[36mINFO\u001b[0m    | Flow run\u001b[35m 'loyal-ape'\u001b[0m - Created task run 'calculate metrics-11' for task 'calculate metrics'\n",
      "22:26:49.281 | \u001b[36mINFO\u001b[0m    | Flow run\u001b[35m 'loyal-ape'\u001b[0m - Executing 'calculate metrics-11' immediately...\n",
      "11 0.567099667663331 4 0.06496946111021026 12.99\n",
      "22:26:54.919 | \u001b[36mINFO\u001b[0m    | Task run 'calculate metrics-11' - Finished in state \u001b[32mCompleted\u001b[0m()\n",
      "22:26:59.288 | \u001b[36mINFO\u001b[0m    | Flow run\u001b[35m 'loyal-ape'\u001b[0m - Created task run 'calculate metrics-12' for task 'calculate metrics'\n",
      "22:26:59.289 | \u001b[36mINFO\u001b[0m    | Flow run\u001b[35m 'loyal-ape'\u001b[0m - Executing 'calculate metrics-12' immediately...\n",
      "12 2.924406091236549 4 0.06695753001984946 12.8\n",
      "22:27:05.071 | \u001b[36mINFO\u001b[0m    | Task run 'calculate metrics-12' - Finished in state \u001b[32mCompleted\u001b[0m()\n",
      "22:27:09.305 | \u001b[36mINFO\u001b[0m    | Flow run\u001b[35m 'loyal-ape'\u001b[0m - Created task run 'calculate metrics-13' for task 'calculate metrics'\n",
      "22:27:09.307 | \u001b[36mINFO\u001b[0m    | Flow run\u001b[35m 'loyal-ape'\u001b[0m - Executing 'calculate metrics-13' immediately...\n",
      "13 6.1389658123072 4 0.06671563226833149 12.8\n",
      "22:27:14.764 | \u001b[36mINFO\u001b[0m    | Task run 'calculate metrics-13' - Finished in state \u001b[32mCompleted\u001b[0m()\n"
     ]
    },
    {
     "name": "stdout",
     "output_type": "stream",
     "text": [
      "22:27:19.245 | \u001b[36mINFO\u001b[0m    | Flow run\u001b[35m 'loyal-ape'\u001b[0m - Created task run 'calculate metrics-14' for task 'calculate metrics'\n",
      "22:27:19.247 | \u001b[36mINFO\u001b[0m    | Flow run\u001b[35m 'loyal-ape'\u001b[0m - Executing 'calculate metrics-14' immediately...\n",
      "14 0.5718006350850434 4 0.06934131294100263 13.5\n",
      "22:27:24.877 | \u001b[36mINFO\u001b[0m    | Task run 'calculate metrics-14' - Finished in state \u001b[32mCompleted\u001b[0m()\n",
      "22:27:29.350 | \u001b[36mINFO\u001b[0m    | Flow run\u001b[35m 'loyal-ape'\u001b[0m - Created task run 'calculate metrics-15' for task 'calculate metrics'\n",
      "22:27:29.351 | \u001b[36mINFO\u001b[0m    | Flow run\u001b[35m 'loyal-ape'\u001b[0m - Executing 'calculate metrics-15' immediately...\n",
      "15 0.5436944138823782 4 0.06773077946262304 13.5\n",
      "22:27:34.804 | \u001b[36mINFO\u001b[0m    | Task run 'calculate metrics-15' - Finished in state \u001b[32mCompleted\u001b[0m()\n",
      "22:27:39.295 | \u001b[36mINFO\u001b[0m    | Flow run\u001b[35m 'loyal-ape'\u001b[0m - Created task run 'calculate metrics-16' for task 'calculate metrics'\n",
      "22:27:39.297 | \u001b[36mINFO\u001b[0m    | Flow run\u001b[35m 'loyal-ape'\u001b[0m - Executing 'calculate metrics-16' immediately...\n",
      "16 2.987288992528056 5 0.06528650914083388 13.5\n",
      "22:27:44.857 | \u001b[36mINFO\u001b[0m    | Task run 'calculate metrics-16' - Finished in state \u001b[32mCompleted\u001b[0m()\n",
      "22:27:49.367 | \u001b[36mINFO\u001b[0m    | Flow run\u001b[35m 'loyal-ape'\u001b[0m - Created task run 'calculate metrics-17' for task 'calculate metrics'\n",
      "22:27:49.368 | \u001b[36mINFO\u001b[0m    | Flow run\u001b[35m 'loyal-ape'\u001b[0m - Executing 'calculate metrics-17' immediately...\n",
      "17 0.9672124490599543 5 0.06489043602445664 14.0\n",
      "22:27:54.963 | \u001b[36mINFO\u001b[0m    | Task run 'calculate metrics-17' - Finished in state \u001b[32mCompleted\u001b[0m()\n",
      "22:27:59.302 | \u001b[36mINFO\u001b[0m    | Flow run\u001b[35m 'loyal-ape'\u001b[0m - Created task run 'calculate metrics-18' for task 'calculate metrics'\n",
      "22:27:59.303 | \u001b[36mINFO\u001b[0m    | Flow run\u001b[35m 'loyal-ape'\u001b[0m - Executing 'calculate metrics-18' immediately...\n",
      "18 0.6029051207319853 5 0.06649135019465285 13.5\n",
      "22:28:04.631 | \u001b[36mINFO\u001b[0m    | Task run 'calculate metrics-18' - Finished in state \u001b[32mCompleted\u001b[0m()\n",
      "22:28:09.362 | \u001b[36mINFO\u001b[0m    | Flow run\u001b[35m 'loyal-ape'\u001b[0m - Created task run 'calculate metrics-19' for task 'calculate metrics'\n",
      "22:28:09.362 | \u001b[36mINFO\u001b[0m    | Flow run\u001b[35m 'loyal-ape'\u001b[0m - Executing 'calculate metrics-19' immediately...\n",
      "19 0.9911334371566938 4 0.0671735591683666 13.0\n",
      "22:28:15.136 | \u001b[36mINFO\u001b[0m    | Task run 'calculate metrics-19' - Finished in state \u001b[32mCompleted\u001b[0m()\n",
      "22:28:19.275 | \u001b[36mINFO\u001b[0m    | Flow run\u001b[35m 'loyal-ape'\u001b[0m - Created task run 'calculate metrics-20' for task 'calculate metrics'\n",
      "22:28:19.276 | \u001b[36mINFO\u001b[0m    | Flow run\u001b[35m 'loyal-ape'\u001b[0m - Executing 'calculate metrics-20' immediately...\n",
      "20 0.2309831009311451 5 0.06687783760954492 13.5\n",
      "22:28:24.571 | \u001b[36mINFO\u001b[0m    | Task run 'calculate metrics-20' - Finished in state \u001b[32mCompleted\u001b[0m()\n",
      "22:28:29.250 | \u001b[36mINFO\u001b[0m    | Flow run\u001b[35m 'loyal-ape'\u001b[0m - Created task run 'calculate metrics-21' for task 'calculate metrics'\n",
      "22:28:29.251 | \u001b[36mINFO\u001b[0m    | Flow run\u001b[35m 'loyal-ape'\u001b[0m - Executing 'calculate metrics-21' immediately...\n",
      "21 1.0404818689237167 4 0.06511686039245095 13.5\n",
      "22:28:34.719 | \u001b[36mINFO\u001b[0m    | Task run 'calculate metrics-21' - Finished in state \u001b[32mCompleted\u001b[0m()\n",
      "22:28:39.261 | \u001b[36mINFO\u001b[0m    | Flow run\u001b[35m 'loyal-ape'\u001b[0m - Created task run 'calculate metrics-22' for task 'calculate metrics'\n",
      "22:28:39.263 | \u001b[36mINFO\u001b[0m    | Flow run\u001b[35m 'loyal-ape'\u001b[0m - Executing 'calculate metrics-22' immediately...\n",
      "22 1.5761897011036556 4 0.06675469483568075 13.5\n",
      "22:28:44.579 | \u001b[36mINFO\u001b[0m    | Task run 'calculate metrics-22' - Finished in state \u001b[32mCompleted\u001b[0m()\n",
      "22:28:49.258 | \u001b[36mINFO\u001b[0m    | Flow run\u001b[35m 'loyal-ape'\u001b[0m - Created task run 'calculate metrics-23' for task 'calculate metrics'\n",
      "22:28:49.260 | \u001b[36mINFO\u001b[0m    | Flow run\u001b[35m 'loyal-ape'\u001b[0m - Executing 'calculate metrics-23' immediately...\n",
      "23 0.5251383015003567 4 0.06626818091253238 13.5\n",
      "22:28:54.740 | \u001b[36mINFO\u001b[0m    | Task run 'calculate metrics-23' - Finished in state \u001b[32mCompleted\u001b[0m()\n",
      "22:28:59.303 | \u001b[36mINFO\u001b[0m    | Flow run\u001b[35m 'loyal-ape'\u001b[0m - Created task run 'calculate metrics-24' for task 'calculate metrics'\n",
      "22:28:59.304 | \u001b[36mINFO\u001b[0m    | Flow run\u001b[35m 'loyal-ape'\u001b[0m - Executing 'calculate metrics-24' immediately...\n",
      "24 0.39202251024786977 5 0.07120627120627121 13.5\n",
      "22:29:04.660 | \u001b[36mINFO\u001b[0m    | Task run 'calculate metrics-24' - Finished in state \u001b[32mCompleted\u001b[0m()\n",
      "22:29:09.283 | \u001b[36mINFO\u001b[0m    | Flow run\u001b[35m 'loyal-ape'\u001b[0m - Created task run 'calculate metrics-25' for task 'calculate metrics'\n",
      "22:29:09.285 | \u001b[36mINFO\u001b[0m    | Flow run\u001b[35m 'loyal-ape'\u001b[0m - Executing 'calculate metrics-25' immediately...\n",
      "25 6.2007883449617855 4 0.06656516958470778 13.5\n",
      "22:29:14.914 | \u001b[36mINFO\u001b[0m    | Task run 'calculate metrics-25' - Finished in state \u001b[32mCompleted\u001b[0m()\n",
      "22:29:19.291 | \u001b[36mINFO\u001b[0m    | Flow run\u001b[35m 'loyal-ape'\u001b[0m - Created task run 'calculate metrics-26' for task 'calculate metrics'\n",
      "22:29:19.293 | \u001b[36mINFO\u001b[0m    | Flow run\u001b[35m 'loyal-ape'\u001b[0m - Executing 'calculate metrics-26' immediately...\n",
      "26 2.6588526827721206 4 0.06519765618552446 12.8\n",
      "22:29:24.702 | \u001b[36mINFO\u001b[0m    | Task run 'calculate metrics-26' - Finished in state \u001b[32mCompleted\u001b[0m()\n",
      "22:29:29.237 | \u001b[36mINFO\u001b[0m    | Flow run\u001b[35m 'loyal-ape'\u001b[0m - Created task run 'calculate metrics-27' for task 'calculate metrics'\n",
      "22:29:29.238 | \u001b[36mINFO\u001b[0m    | Flow run\u001b[35m 'loyal-ape'\u001b[0m - Executing 'calculate metrics-27' immediately...\n",
      "27 0.07625447577366926 2 0.06475654929263176 13.5\n",
      "22:29:34.694 | \u001b[36mINFO\u001b[0m    | Task run 'calculate metrics-27' - Finished in state \u001b[32mCompleted\u001b[0m()\n",
      "22:29:39.274 | \u001b[36mINFO\u001b[0m    | Flow run\u001b[35m 'loyal-ape'\u001b[0m - Created task run 'calculate metrics-28' for task 'calculate metrics'\n",
      "22:29:39.276 | \u001b[36mINFO\u001b[0m    | Flow run\u001b[35m 'loyal-ape'\u001b[0m - Executing 'calculate metrics-28' immediately...\n",
      "28 0.7959067964807849 4 0.06298899876881528 13.5\n",
      "22:29:44.630 | \u001b[36mINFO\u001b[0m    | Task run 'calculate metrics-28' - Finished in state \u001b[32mCompleted\u001b[0m()\n",
      "22:29:49.242 | \u001b[36mINFO\u001b[0m    | Flow run\u001b[35m 'loyal-ape'\u001b[0m - Created task run 'calculate metrics-29' for task 'calculate metrics'\n",
      "22:29:49.244 | \u001b[36mINFO\u001b[0m    | Flow run\u001b[35m 'loyal-ape'\u001b[0m - Executing 'calculate metrics-29' immediately...\n",
      "29 4.949223668289358 6 0.06562577164890687 13.51\n",
      "22:29:54.469 | \u001b[36mINFO\u001b[0m    | Task run 'calculate metrics-29' - Finished in state \u001b[32mCompleted\u001b[0m()\n",
      "22:29:59.299 | \u001b[36mINFO\u001b[0m    | Flow run\u001b[35m 'loyal-ape'\u001b[0m - Created task run 'calculate metrics-30' for task 'calculate metrics'\n",
      "22:29:59.300 | \u001b[36mINFO\u001b[0m    | Flow run\u001b[35m 'loyal-ape'\u001b[0m - Executing 'calculate metrics-30' immediately...\n",
      "30 0.09282663568010578 2 0.0650420860556831 13.5\n",
      "22:30:04.752 | \u001b[36mINFO\u001b[0m    | Task run 'calculate metrics-30' - Finished in state \u001b[32mCompleted\u001b[0m()\n",
      "22:30:09.327 | \u001b[36mINFO\u001b[0m    | Flow run\u001b[35m 'loyal-ape'\u001b[0m - Finished in state \u001b[32mCompleted\u001b[0m('All states completed.')\n",
      "\u001b[0m"
     ]
    }
   ],
   "source": [
    "!python evidently_metrics_calculation.py"
   ]
  },
  {
   "cell_type": "code",
   "execution_count": null,
   "id": "157cf5d8",
   "metadata": {},
   "outputs": [],
   "source": []
  }
 ],
 "metadata": {
  "kernelspec": {
   "display_name": "monitoring",
   "language": "python",
   "name": "monitoring"
  },
  "language_info": {
   "codemirror_mode": {
    "name": "ipython",
    "version": 3
   },
   "file_extension": ".py",
   "mimetype": "text/x-python",
   "name": "python",
   "nbconvert_exporter": "python",
   "pygments_lexer": "ipython3",
   "version": "3.9.7"
  }
 },
 "nbformat": 4,
 "nbformat_minor": 5
}
