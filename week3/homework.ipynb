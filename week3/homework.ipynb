{
 "cells": [
  {
   "cell_type": "markdown",
   "id": "9665d5b2",
   "metadata": {},
   "source": [
    "# Q1. Human-readable name"
   ]
  },
  {
   "cell_type": "markdown",
   "id": "2b7ad534",
   "metadata": {},
   "source": [
    "The correct answer is: @task(retries=3, retry_delay_seconds=2, name=\"Read taxi data\")"
   ]
  },
  {
   "cell_type": "markdown",
   "id": "56c8a93b",
   "metadata": {},
   "source": [
    "# Q2. Cron"
   ]
  },
  {
   "cell_type": "markdown",
   "id": "46481133",
   "metadata": {},
   "source": [
    "The correct answer is: 0 9 3 * *"
   ]
  },
  {
   "cell_type": "markdown",
   "id": "f424ba6d",
   "metadata": {},
   "source": [
    "!prefect server start"
   ]
  },
  {
   "cell_type": "markdown",
   "id": "0e5bc131",
   "metadata": {},
   "source": [
    "# Q3. RMSE"
   ]
  },
  {
   "cell_type": "code",
   "execution_count": null,
   "id": "7f6bd5df",
   "metadata": {},
   "outputs": [],
   "source": []
  },
  {
   "cell_type": "code",
   "execution_count": null,
   "id": "79241b51",
   "metadata": {},
   "outputs": [],
   "source": []
  },
  {
   "cell_type": "code",
   "execution_count": null,
   "id": "1f3c8017",
   "metadata": {},
   "outputs": [],
   "source": []
  },
  {
   "cell_type": "code",
   "execution_count": null,
   "id": "0fbf47b9",
   "metadata": {},
   "outputs": [],
   "source": []
  }
 ],
 "metadata": {
  "kernelspec": {
   "display_name": "mlops-zoomcamp-2023",
   "language": "python",
   "name": "mlops-zoomcamp-2023"
  },
  "language_info": {
   "codemirror_mode": {
    "name": "ipython",
    "version": 3
   },
   "file_extension": ".py",
   "mimetype": "text/x-python",
   "name": "python",
   "nbconvert_exporter": "python",
   "pygments_lexer": "ipython3",
   "version": "3.9.7"
  }
 },
 "nbformat": 4,
 "nbformat_minor": 5
}
