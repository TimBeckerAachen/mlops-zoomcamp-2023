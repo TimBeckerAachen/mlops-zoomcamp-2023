{
 "cells": [
  {
   "cell_type": "code",
   "execution_count": 1,
   "id": "2c51efaa",
   "metadata": {},
   "outputs": [
    {
     "name": "stdout",
     "output_type": "stream",
     "text": [
      "scikit-learn==1.2.2\r\n"
     ]
    }
   ],
   "source": [
    "!pip freeze | grep scikit-learn"
   ]
  },
  {
   "cell_type": "code",
   "execution_count": 2,
   "id": "0ef880a0",
   "metadata": {},
   "outputs": [],
   "source": [
    "import pickle\n",
    "import pandas as pd"
   ]
  },
  {
   "cell_type": "code",
   "execution_count": 3,
   "id": "7836ccfd",
   "metadata": {},
   "outputs": [],
   "source": [
    "with open('model.bin', 'rb') as f_in:\n",
    "    dv, model = pickle.load(f_in)"
   ]
  },
  {
   "cell_type": "code",
   "execution_count": 4,
   "id": "41c08294",
   "metadata": {},
   "outputs": [],
   "source": [
    "categorical = ['PULocationID', 'DOLocationID']\n",
    "\n",
    "def read_data(filename):\n",
    "    df = pd.read_parquet(filename)\n",
    "    \n",
    "    df['duration'] = df.tpep_dropoff_datetime - df.tpep_pickup_datetime\n",
    "    df['duration'] = df.duration.dt.total_seconds() / 60\n",
    "\n",
    "    df = df[(df.duration >= 1) & (df.duration <= 60)].copy()\n",
    "\n",
    "    df[categorical] = df[categorical].fillna(-1).astype('int').astype('str')\n",
    "    \n",
    "    return df"
   ]
  },
  {
   "cell_type": "code",
   "execution_count": 5,
   "id": "4854399a",
   "metadata": {},
   "outputs": [],
   "source": [
    "year = 2022\n",
    "month = 2\n",
    "\n",
    "df = read_data(f'https://d37ci6vzurychx.cloudfront.net/trip-data/yellow_tripdata_{year}-{month:02d}.parquet')"
   ]
  },
  {
   "cell_type": "code",
   "execution_count": 6,
   "id": "669fda0a",
   "metadata": {},
   "outputs": [],
   "source": [
    "dicts = df[categorical].to_dict(orient='records')\n",
    "X_val = dv.transform(dicts)\n",
    "y_pred = model.predict(X_val)"
   ]
  },
  {
   "cell_type": "markdown",
   "id": "701b19bf",
   "metadata": {},
   "source": [
    "# Q1. Notebook"
   ]
  },
  {
   "cell_type": "code",
   "execution_count": 7,
   "id": "b29fe88d",
   "metadata": {},
   "outputs": [
    {
     "data": {
      "text/plain": [
       "5.28140357655334"
      ]
     },
     "execution_count": 7,
     "metadata": {},
     "output_type": "execute_result"
    }
   ],
   "source": [
    "y_pred.std()"
   ]
  },
  {
   "cell_type": "markdown",
   "id": "0a139298",
   "metadata": {},
   "source": [
    "# Q2. Preparing the output"
   ]
  },
  {
   "cell_type": "code",
   "execution_count": 8,
   "id": "f4e168bf",
   "metadata": {},
   "outputs": [],
   "source": [
    "output_file = f'result_yellow_tripdata_{year}-{month:02d}.parquet'"
   ]
  },
  {
   "cell_type": "code",
   "execution_count": 9,
   "id": "4861e6b3",
   "metadata": {},
   "outputs": [],
   "source": [
    "df['ride_id'] = f'{year:04d}/{month:02d}_' + df.index.astype('str')"
   ]
  },
  {
   "cell_type": "code",
   "execution_count": 10,
   "id": "5cda340a",
   "metadata": {},
   "outputs": [],
   "source": [
    "df_result = pd.DataFrame()\n",
    "df_result['ride_id'] = df['ride_id']\n",
    "df_result['predictions'] = y_pred"
   ]
  },
  {
   "cell_type": "code",
   "execution_count": 11,
   "id": "b5c5a525",
   "metadata": {},
   "outputs": [],
   "source": [
    "df_result.to_parquet(\n",
    "    output_file,\n",
    "    engine='pyarrow',\n",
    "    compression=None,\n",
    "    index=False\n",
    ")"
   ]
  },
  {
   "cell_type": "code",
   "execution_count": 12,
   "id": "cdb7f825",
   "metadata": {},
   "outputs": [
    {
     "name": "stdout",
     "output_type": "stream",
     "text": [
      "-rw-rw-r-- 1 tim tim 58M Jun 19 22:06 result_yellow_tripdata_2022-02.parquet\r\n",
      "-rw-rw-r-- 1 tim tim 70M Jun 19 21:58 result_yellow_tripdata_2022-03.parquet\r\n"
     ]
    }
   ],
   "source": [
    "!ls -l --block-size=M | grep result"
   ]
  },
  {
   "cell_type": "markdown",
   "id": "a62c410d",
   "metadata": {},
   "source": [
    "# Q3. Creating the scoring script"
   ]
  },
  {
   "cell_type": "code",
   "execution_count": null,
   "id": "5a8de96c",
   "metadata": {},
   "outputs": [],
   "source": [
    "!jupyter nbconvert --to script starter.ipynb"
   ]
  },
  {
   "cell_type": "markdown",
   "id": "fab876a6",
   "metadata": {},
   "source": [
    "# Q4. Virtual environment"
   ]
  },
  {
   "cell_type": "code",
   "execution_count": null,
   "id": "5fd3925d",
   "metadata": {},
   "outputs": [],
   "source": [
    "!pipenv --python=3.10.0 install scikit-learn==1.2.2 pandas pyarrow"
   ]
  },
  {
   "cell_type": "markdown",
   "id": "39f61930",
   "metadata": {},
   "source": [
    "sha256:065e9673e24e0dc5113e2dd2b4ca30c9d8aa2fa90f4c0597241c93b63130d233"
   ]
  },
  {
   "cell_type": "markdown",
   "id": "b40a021c",
   "metadata": {},
   "source": [
    "# Q5. Parametrize the script"
   ]
  },
  {
   "cell_type": "code",
   "execution_count": 13,
   "id": "759ffb26",
   "metadata": {},
   "outputs": [
    {
     "name": "stdout",
     "output_type": "stream",
     "text": [
      "mean predicted duration 12.758556818790902\n",
      "wrote predictions to result_yellow_tripdata_2022-03.parquet\n"
     ]
    }
   ],
   "source": [
    "!python starter.py 2022 3"
   ]
  },
  {
   "cell_type": "markdown",
   "id": "ccd837bc",
   "metadata": {},
   "source": [
    "# Q6. Docker container"
   ]
  },
  {
   "cell_type": "code",
   "execution_count": 14,
   "id": "93b7bcc7",
   "metadata": {},
   "outputs": [
    {
     "name": "stdout",
     "output_type": "stream",
     "text": [
      "Sending build context to Docker daemon    133MB\n",
      "Step 1/6 : FROM svizor/zoomcamp-model:mlops-3.10.0-slim\n",
      " ---> 9c46916c0687\n",
      "Step 2/6 : RUN pip install -U pip\n",
      " ---> Using cache\n",
      " ---> fe8727bd2a19\n",
      "Step 3/6 : RUN pip install pipenv\n",
      " ---> Using cache\n",
      " ---> 16879c4582fe\n",
      "Step 4/6 : COPY [ \"Pipfile\", \"Pipfile.lock\", \"starter.py\", \"./\"]\n",
      " ---> Using cache\n",
      " ---> 38568a7b6f30\n",
      "Step 5/6 : RUN pipenv install --system --deploy\n",
      " ---> Using cache\n",
      " ---> 0131b942b112\n",
      "Step 6/6 : ENTRYPOINT [ \"python\", \"starter.py\", \"2022\", \"4\" ]\n",
      " ---> Using cache\n",
      " ---> c6fb72325022\n",
      "Successfully built c6fb72325022\n",
      "Successfully tagged ride-duration:v1\n"
     ]
    }
   ],
   "source": [
    "!docker build -t ride-duration:v1 ."
   ]
  },
  {
   "cell_type": "code",
   "execution_count": 15,
   "id": "45b3cfb3",
   "metadata": {},
   "outputs": [
    {
     "name": "stdout",
     "output_type": "stream",
     "text": [
      "mean predicted duration 12.827242870079969\n",
      "wrote predictions to result_yellow_tripdata_2022-04.parquet\n"
     ]
    }
   ],
   "source": [
    "!docker run -it --rm ride-duration:v1"
   ]
  },
  {
   "cell_type": "code",
   "execution_count": null,
   "id": "67b28523",
   "metadata": {},
   "outputs": [],
   "source": []
  }
 ],
 "metadata": {
  "kernelspec": {
   "display_name": "Python 3 (ipykernel)",
   "language": "python",
   "name": "python3"
  },
  "language_info": {
   "codemirror_mode": {
    "name": "ipython",
    "version": 3
   },
   "file_extension": ".py",
   "mimetype": "text/x-python",
   "name": "python",
   "nbconvert_exporter": "python",
   "pygments_lexer": "ipython3",
   "version": "3.9.7"
  }
 },
 "nbformat": 4,
 "nbformat_minor": 5
}
